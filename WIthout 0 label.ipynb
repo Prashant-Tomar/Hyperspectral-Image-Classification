{
 "cells": [
  {
   "cell_type": "code",
   "execution_count": 62,
   "metadata": {},
   "outputs": [],
   "source": [
    "from scipy.io import loadmat\n",
    "import numpy as np\n",
    "import math\n",
    "import warnings\n",
    "warnings.filterwarnings('ignore')"
   ]
  },
  {
   "cell_type": "code",
   "execution_count": 63,
   "metadata": {},
   "outputs": [],
   "source": [
    "data3=loadmat('Indian_pines_corrected.mat')"
   ]
  },
  {
   "cell_type": "code",
   "execution_count": 64,
   "metadata": {},
   "outputs": [
    {
     "data": {
      "text/plain": [
       "{'__header__': b'MATLAB 5.0 MAT-file, Platform: GLNXA64, Created on: Fri May 20 18:47:44 2011',\n",
       " '__version__': '1.0',\n",
       " '__globals__': [],\n",
       " 'indian_pines_corrected': array([[[3172, 4142, 4506, ..., 1057, 1020, 1020],\n",
       "         [2580, 4266, 4502, ..., 1064, 1029, 1020],\n",
       "         [3687, 4266, 4421, ..., 1061, 1030, 1016],\n",
       "         ...,\n",
       "         [2570, 3890, 4320, ..., 1042, 1021, 1015],\n",
       "         [3170, 4130, 4320, ..., 1054, 1024, 1020],\n",
       "         [3172, 3890, 4316, ..., 1043, 1034, 1016]],\n",
       " \n",
       "        [[2576, 4388, 4334, ..., 1047, 1030, 1006],\n",
       "         [2747, 4264, 4592, ..., 1055, 1039, 1015],\n",
       "         [2750, 4268, 4423, ..., 1047, 1026, 1015],\n",
       "         ...,\n",
       "         [3859, 4512, 4605, ..., 1056, 1035, 1015],\n",
       "         [3686, 4264, 4690, ..., 1051, 1012, 1020],\n",
       "         [2744, 4268, 4597, ..., 1047, 1019, 1016]],\n",
       " \n",
       "        [[2744, 4146, 4416, ..., 1055, 1029, 1025],\n",
       "         [2576, 4389, 4416, ..., 1051, 1021, 1011],\n",
       "         [2744, 4273, 4420, ..., 1068, 1033, 1010],\n",
       "         ...,\n",
       "         [2570, 4266, 4509, ..., 1051, 1025, 1010],\n",
       "         [2576, 4262, 4496, ..., 1047, 1029, 1020],\n",
       "         [2742, 4142, 4230, ..., 1042, 1025, 1011]],\n",
       " \n",
       "        ...,\n",
       " \n",
       "        [[3324, 3728, 4002, ..., 1003, 1004, 1004],\n",
       "         [2983, 3604, 3829, ..., 1011, 1013, 1008],\n",
       "         [2988, 3612, 3913, ..., 1012, 1001, 1004],\n",
       "         ...,\n",
       "         [2564, 4115, 4103, ..., 1003, 1005, 1013],\n",
       "         [2730, 4111, 4103, ..., 1015, 1013, 1004],\n",
       "         [3156, 3991, 4103, ..., 1017, 1014, 1000]],\n",
       " \n",
       "        [[3161, 3731, 3834, ..., 1002, 1000, 1000],\n",
       "         [2727, 3742, 4011, ...,  999,  991, 1003],\n",
       "         [2988, 4114, 4011, ..., 1006, 1008, 1013],\n",
       "         ...,\n",
       "         [3156, 3858, 4016, ..., 1011, 1004, 1003],\n",
       "         [3159, 3858, 4100, ..., 1016, 1000, 1000],\n",
       "         [2561, 3866, 4003, ..., 1008, 1008, 1000]],\n",
       " \n",
       "        [[2979, 3728, 3732, ..., 1006, 1004, 1000],\n",
       "         [2977, 3728, 3741, ..., 1007, 1009,  990],\n",
       "         [2814, 3728, 3914, ...,  999, 1009, 1003],\n",
       "         ...,\n",
       "         [3153, 3864, 4282, ..., 1003, 1008, 1000],\n",
       "         [3155, 4104, 4106, ..., 1011, 1005, 1003],\n",
       "         [3323, 3860, 4197, ..., 1007, 1004, 1000]]], dtype=uint16)}"
      ]
     },
     "execution_count": 64,
     "metadata": {},
     "output_type": "execute_result"
    }
   ],
   "source": [
    "data3"
   ]
  },
  {
   "cell_type": "code",
   "execution_count": 65,
   "metadata": {},
   "outputs": [],
   "source": [
    "data3=data3['indian_pines_corrected']"
   ]
  },
  {
   "cell_type": "code",
   "execution_count": 66,
   "metadata": {},
   "outputs": [],
   "source": [
    "#make a function to feature normalize the data\n",
    "data=data3.copy()\n",
    "for j in range(data.shape[1]):\n",
    "    maxv=np.max(data[:,j])\n",
    "    minv=np.min(data[:,j])\n",
    "    data[:,j]=(data[:,j]-maxv)/(maxv-minv)"
   ]
  },
  {
   "cell_type": "code",
   "execution_count": 88,
   "metadata": {},
   "outputs": [
    {
     "data": {
      "text/plain": [
       "array([[[8, 8, 8, ..., 7, 7, 7],\n",
       "        [7, 8, 8, ..., 7, 7, 7],\n",
       "        [7, 8, 8, ..., 7, 7, 7],\n",
       "        ...,\n",
       "        [8, 8, 8, ..., 8, 8, 8],\n",
       "        [8, 9, 9, ..., 8, 8, 8],\n",
       "        [7, 8, 8, ..., 7, 7, 7]],\n",
       "\n",
       "       [[7, 8, 8, ..., 7, 7, 7],\n",
       "        [7, 8, 8, ..., 7, 7, 7],\n",
       "        [7, 8, 8, ..., 7, 7, 7],\n",
       "        ...,\n",
       "        [8, 8, 8, ..., 8, 8, 8],\n",
       "        [8, 9, 9, ..., 8, 8, 8],\n",
       "        [7, 8, 8, ..., 7, 7, 7]],\n",
       "\n",
       "       [[7, 8, 8, ..., 7, 7, 7],\n",
       "        [7, 8, 8, ..., 7, 7, 7],\n",
       "        [7, 8, 8, ..., 7, 7, 7],\n",
       "        ...,\n",
       "        [8, 8, 8, ..., 8, 8, 8],\n",
       "        [8, 9, 9, ..., 8, 8, 8],\n",
       "        [7, 8, 8, ..., 7, 7, 7]],\n",
       "\n",
       "       ...,\n",
       "\n",
       "       [[8, 8, 8, ..., 7, 7, 7],\n",
       "        [7, 8, 8, ..., 7, 7, 7],\n",
       "        [7, 7, 7, ..., 7, 7, 7],\n",
       "        ...,\n",
       "        [8, 8, 8, ..., 8, 8, 8],\n",
       "        [8, 9, 9, ..., 8, 8, 8],\n",
       "        [7, 8, 8, ..., 7, 7, 7]],\n",
       "\n",
       "       [[8, 8, 8, ..., 7, 7, 7],\n",
       "        [7, 8, 8, ..., 7, 7, 7],\n",
       "        [7, 8, 8, ..., 7, 7, 7],\n",
       "        ...,\n",
       "        [8, 8, 8, ..., 8, 8, 8],\n",
       "        [8, 9, 9, ..., 8, 8, 8],\n",
       "        [7, 8, 8, ..., 7, 7, 7]],\n",
       "\n",
       "       [[7, 8, 8, ..., 7, 7, 7],\n",
       "        [7, 8, 8, ..., 7, 7, 7],\n",
       "        [7, 7, 7, ..., 7, 7, 7],\n",
       "        ...,\n",
       "        [8, 8, 8, ..., 8, 8, 8],\n",
       "        [8, 9, 9, ..., 8, 8, 8],\n",
       "        [7, 8, 8, ..., 7, 7, 7]]], dtype=uint16)"
      ]
     },
     "execution_count": 88,
     "metadata": {},
     "output_type": "execute_result"
    }
   ],
   "source": []
  },
  {
   "cell_type": "code",
   "execution_count": null,
   "metadata": {},
   "outputs": [],
   "source": []
  },
  {
   "cell_type": "code",
   "execution_count": 67,
   "metadata": {},
   "outputs": [],
   "source": [
    "data2=loadmat('Indian_pines_gt.mat')"
   ]
  },
  {
   "cell_type": "code",
   "execution_count": 68,
   "metadata": {
    "scrolled": true
   },
   "outputs": [
    {
     "data": {
      "text/plain": [
       "{'__header__': b'MATLAB 5.0 MAT-file, Platform: GLNXA64, Created on: Fri May 20 18:25:41 2011',\n",
       " '__version__': '1.0',\n",
       " '__globals__': [],\n",
       " 'indian_pines_gt': array([[3, 3, 3, ..., 0, 0, 0],\n",
       "        [3, 3, 3, ..., 0, 0, 0],\n",
       "        [3, 3, 3, ..., 0, 0, 0],\n",
       "        ...,\n",
       "        [0, 0, 0, ..., 0, 0, 0],\n",
       "        [0, 0, 0, ..., 0, 0, 0],\n",
       "        [0, 0, 0, ..., 0, 0, 0]], dtype=uint8)}"
      ]
     },
     "execution_count": 68,
     "metadata": {},
     "output_type": "execute_result"
    }
   ],
   "source": [
    "data2"
   ]
  },
  {
   "cell_type": "code",
   "execution_count": 69,
   "metadata": {},
   "outputs": [],
   "source": [
    "data2=data2['indian_pines_gt']"
   ]
  },
  {
   "cell_type": "code",
   "execution_count": 70,
   "metadata": {},
   "outputs": [
    {
     "data": {
      "text/plain": [
       "(145, 145, 200)"
      ]
     },
     "execution_count": 70,
     "metadata": {},
     "output_type": "execute_result"
    }
   ],
   "source": [
    "data.shape"
   ]
  },
  {
   "cell_type": "code",
   "execution_count": 71,
   "metadata": {},
   "outputs": [
    {
     "data": {
      "text/plain": [
       "(145, 145)"
      ]
     },
     "execution_count": 71,
     "metadata": {},
     "output_type": "execute_result"
    }
   ],
   "source": [
    "data2.shape"
   ]
  },
  {
   "cell_type": "code",
   "execution_count": 72,
   "metadata": {},
   "outputs": [],
   "source": [
    "#Defining a function to select 50% of the data into test and train, We will make the data in the format we want \n",
    "def randomize_data(data,data2):\n",
    "    (m,n,o)=data.shape\n",
    "    (p,q)=data2.shape\n",
    "    random_indices_for_rows=np.random.permutation(m)\n",
    "    random_indices_for_columns=np.random.permutation(n)\n",
    "    fifty_percent=int(0.5*m)+1\n",
    "    train_row_indeces=random_indices_for_rows[0:fifty_percent]\n",
    "    train_column_indeces=random_indices_for_columns[0:fifty_percent]\n",
    "    test_row_indeces=random_indices_for_rows[fifty_percent:]\n",
    "    test_column_indeces=random_indices_for_columns[fifty_percent:]\n",
    "    X_train=np.matrix(data[train_row_indeces[0],train_column_indeces[0],:])\n",
    "    X_test=np.matrix(data[test_row_indeces[0],test_column_indeces[0],:])\n",
    "    Y_train=[data2[train_row_indeces[0],train_column_indeces[0]]]\n",
    "    Y_test=[data2[test_row_indeces[0],test_column_indeces[0]]]\n",
    "    for i in range(len(train_row_indeces)):\n",
    "        for j in range(len(train_column_indeces)):\n",
    "            if data2[train_row_indeces[i],train_column_indeces[j]]!=0:\n",
    "                X_train=np.vstack([X_train,np.matrix(data[train_row_indeces[i],train_column_indeces[j],:])])\n",
    "                Y_train.append(data2[train_row_indeces[i],train_column_indeces[j]])\n",
    "    \n",
    "    #X_train=np.hstack((X_train,np.ones((X_train.shape[0],1))))\n",
    "    #X_train=np.hstack((np.ones(X_train.shape[0],1),X_train))        \n",
    "    \n",
    "    for a in range(len(test_row_indeces)):\n",
    "        for b in range(len(test_column_indeces)):\n",
    "            if data2[test_row_indeces[a],test_column_indeces[b]]!=0:\n",
    "                X_test=np.vstack([X_test,np.matrix(data[test_row_indeces[a],test_column_indeces[b],:])])\n",
    "                Y_test.append(data2[test_row_indeces[a],test_column_indeces[b]])\n",
    "            \n",
    "    #X_test=np.hstack((X_test,np.ones((X_test.shape[0],1))))\n",
    "    #X_test=np.hstack((np.ones(X_test.shape[0],1),X_test))        \n",
    "            \n",
    "    return (X_train,np.matrix(Y_train).T,X_test,np.matrix(Y_test).T)\n",
    "            "
   ]
  },
  {
   "cell_type": "code",
   "execution_count": 73,
   "metadata": {},
   "outputs": [],
   "source": [
    "(X_train,Y_train,X_test,Y_test)=randomize_data(data,data2)"
   ]
  }
 ],
 "metadata": {
  "kernelspec": {
   "display_name": "Python 3",
   "language": "python",
   "name": "python3"
  },
  "language_info": {
   "codemirror_mode": {
    "name": "ipython",
    "version": 3
   },
   "file_extension": ".py",
   "mimetype": "text/x-python",
   "name": "python",
   "nbconvert_exporter": "python",
   "pygments_lexer": "ipython3",
   "version": "3.6.6"
  }
 },
 "nbformat": 4,
 "nbformat_minor": 2
}
